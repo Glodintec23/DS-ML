{
  "nbformat": 4,
  "nbformat_minor": 0,
  "metadata": {
    "colab": {
      "provenance": [],
      "include_colab_link": true
    },
    "kernelspec": {
      "name": "python3",
      "display_name": "Python 3"
    },
    "language_info": {
      "name": "python"
    }
  },
  "cells": [
    {
      "cell_type": "markdown",
      "metadata": {
        "id": "view-in-github",
        "colab_type": "text"
      },
      "source": [
        "<a href=\"https://colab.research.google.com/github/Glodintec23/DS-ML/blob/main/glodin_joseph_StudentCopy_of_CO1_NumpyArray.ipynb\" target=\"_parent\"><img src=\"https://colab.research.google.com/assets/colab-badge.svg\" alt=\"Open In Colab\"/></a>"
      ]
    },
    {
      "cell_type": "code",
      "source": [
        "# program to create an array of all the even integers from 20 to 80\n",
        "import numpy as np\n",
        "x=np.arange(start=20,stop=80,step=2)\n",
        "print(x)"
      ],
      "metadata": {
        "id": "cfWur71N9aGi",
        "colab": {
          "base_uri": "https://localhost:8080/"
        },
        "outputId": "681fcf40-aea9-4e00-da3c-6a1d460680c1"
      },
      "execution_count": null,
      "outputs": [
        {
          "output_type": "stream",
          "name": "stdout",
          "text": [
            "[20 22 24 26 28 30 32 34 36 38 40 42 44 46 48 50 52 54 56 58 60 62 64 66\n",
            " 68 70 72 74 76 78]\n"
          ]
        }
      ]
    },
    {
      "cell_type": "code",
      "execution_count": null,
      "metadata": {
        "id": "RmYAaiCX73Y2",
        "colab": {
          "base_uri": "https://localhost:8080/"
        },
        "outputId": "73adcc3a-6baa-4e63-aa1d-f7b528db8387"
      },
      "outputs": [
        {
          "output_type": "stream",
          "name": "stdout",
          "text": [
            "/n array1\n",
            "[ 23  24  25  26  27  24  25  26   2   8  88 100]\n",
            "/n array2\n",
            "[ 12  45  78  23  27  24  36  12  45  78 100  88]\n",
            "[ True False False  True False False False  True False False False  True]\n",
            "[ True False False  True  True  True False  True False False False  True]\n",
            "[False  True  True False False False  True False  True  True  True False]\n",
            "[False  True  True False  True  True  True False  True  True  True False]\n"
          ]
        }
      ],
      "source": [
        "#Write a program to create a numpy array and perform element-wise comparison (greater, greater_equal, less than, lesser_equal).\n",
        "import numpy as np\n",
        "x=np.array([23,24,25,26,27,24,25,26,2,8,88,100])\n",
        "y=np.array([12,45,78,23,27,24,36,12,45,78,100,88])\n",
        "print(\"/n array1\")\n",
        "print(x)\n",
        "print(\"/n array2\")\n",
        "print(y)\n",
        "print(np.greater(x,y))\n",
        "print(np.greater_equal(x,y))\n",
        "print(np.less(x,y))\n",
        "print(np.less_equal(x,y))"
      ]
    },
    {
      "cell_type": "code",
      "source": [
        "#program to multiply two given arrays of same size\n",
        "import numpy as np\n",
        "a1=np.array([[2,3,4],[4,5,6]])\n",
        "a2=np.array([[7,8,9],[9,6,3]])\n",
        "print(a1)\n",
        "print(a2)\n",
        "print(\"/n multiple\")\n",
        "print(np.multiply(a1,a2))"
      ],
      "metadata": {
        "id": "js_mIfpL9M6z",
        "colab": {
          "base_uri": "https://localhost:8080/"
        },
        "outputId": "cd9d4477-d3a5-4c5a-9650-adb80ff8ecf9"
      },
      "execution_count": null,
      "outputs": [
        {
          "output_type": "stream",
          "name": "stdout",
          "text": [
            "[[2 3 4]\n",
            " [4 5 6]]\n",
            "[[7 8 9]\n",
            " [9 6 3]]\n",
            "/n multiple\n",
            "[[14 24 36]\n",
            " [36 30 18]]\n"
          ]
        }
      ]
    },
    {
      "cell_type": "code",
      "source": [
        "#Program to save a given array to a text file and load it\n",
        "import numpy as np\n",
        "import os\n",
        "x=np.arange(64).reshape(8,8)\n",
        "print(\"/n array\")\n",
        "print(x)\n",
        "a='cl1  cl2  cl3  cl4'\n",
        "np.savetxt('arrayfile.txt',x,fmt=\"%f\",header=a)\n",
        "print(\"/n after loading content\")\n",
        "print(np.loadtxt('arrayfile.txt'))\n"
      ],
      "metadata": {
        "id": "ZcAcw9Cu9pYA",
        "colab": {
          "base_uri": "https://localhost:8080/"
        },
        "outputId": "89a15c2c-26fd-4171-9da8-dbbd01ef7197"
      },
      "execution_count": null,
      "outputs": [
        {
          "output_type": "stream",
          "name": "stdout",
          "text": [
            "/n array\n",
            "[[ 0  1  2  3  4  5  6  7]\n",
            " [ 8  9 10 11 12 13 14 15]\n",
            " [16 17 18 19 20 21 22 23]\n",
            " [24 25 26 27 28 29 30 31]\n",
            " [32 33 34 35 36 37 38 39]\n",
            " [40 41 42 43 44 45 46 47]\n",
            " [48 49 50 51 52 53 54 55]\n",
            " [56 57 58 59 60 61 62 63]]\n",
            "/n after loading content\n",
            "[[ 0.  1.  2.  3.  4.  5.  6.  7.]\n",
            " [ 8.  9. 10. 11. 12. 13. 14. 15.]\n",
            " [16. 17. 18. 19. 20. 21. 22. 23.]\n",
            " [24. 25. 26. 27. 28. 29. 30. 31.]\n",
            " [32. 33. 34. 35. 36. 37. 38. 39.]\n",
            " [40. 41. 42. 43. 44. 45. 46. 47.]\n",
            " [48. 49. 50. 51. 52. 53. 54. 55.]\n",
            " [56. 57. 58. 59. 60. 61. 62. 63.]]\n"
          ]
        }
      ]
    }
  ]
}