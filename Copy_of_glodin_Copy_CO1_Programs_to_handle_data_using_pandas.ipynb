{
  "nbformat": 4,
  "nbformat_minor": 0,
  "metadata": {
    "colab": {
      "provenance": [],
      "include_colab_link": true
    },
    "kernelspec": {
      "name": "python3",
      "display_name": "Python 3"
    },
    "language_info": {
      "name": "python"
    }
  },
  "cells": [
    {
      "cell_type": "markdown",
      "metadata": {
        "id": "view-in-github",
        "colab_type": "text"
      },
      "source": [
        "<a href=\"https://colab.research.google.com/github/Glodintec23/DS-ML/blob/main/Copy_of_glodin_Copy_CO1_Programs_to_handle_data_using_pandas.ipynb\" target=\"_parent\"><img src=\"https://colab.research.google.com/assets/colab-badge.svg\" alt=\"Open In Colab\"/></a>"
      ]
    },
    {
      "cell_type": "code",
      "execution_count": null,
      "metadata": {
        "id": "Ef5hPWODER7z",
        "colab": {
          "base_uri": "https://localhost:8080/"
        },
        "outputId": "27326119-13e3-41bb-d2d6-cb1973c0adc0"
      },
      "outputs": [
        {
          "output_type": "stream",
          "name": "stdout",
          "text": [
            "0    10\n",
            "1    20\n",
            "2    30\n",
            "3    40\n",
            "4    50\n",
            "dtype: int64\n"
          ]
        }
      ],
      "source": [
        "#1. Write a python program to implement List-to-Series Conversion\n",
        "import pandas as pd\n",
        "my_list = [10, 20, 30, 40, 50]\n",
        "my_series = pd.Series(my_list)\n",
        "print(my_series)\n"
      ]
    },
    {
      "cell_type": "code",
      "source": [
        "#2. Write a python program to Generate the series of dates from 1st September, 2023 to 25th September, 2023 (both inclusive).\n",
        "\n",
        "from datetime import datetime, timedelta\n",
        "start_date = datetime(2023, 9, 1)\n",
        "end_date = datetime(2023, 9, 25)\n",
        "current_date = start_date\n",
        "date_series = []\n",
        "\n",
        "while current_date <= end_date:\n",
        "    date_series.append(current_date.strftime('%Y-%m-%d'))\n",
        "    current_date += timedelta(days=1)\n",
        "for date in date_series:\n",
        "    print(date)\n"
      ],
      "metadata": {
        "id": "DQLSsJdrEk8m",
        "colab": {
          "base_uri": "https://localhost:8080/"
        },
        "outputId": "02b81806-e79a-4336-99dd-bd41ca052a47"
      },
      "execution_count": null,
      "outputs": [
        {
          "output_type": "stream",
          "name": "stdout",
          "text": [
            "2023-09-01\n",
            "2023-09-02\n",
            "2023-09-03\n",
            "2023-09-04\n",
            "2023-09-05\n",
            "2023-09-06\n",
            "2023-09-07\n",
            "2023-09-08\n",
            "2023-09-09\n",
            "2023-09-10\n",
            "2023-09-11\n",
            "2023-09-12\n",
            "2023-09-13\n",
            "2023-09-14\n",
            "2023-09-15\n",
            "2023-09-16\n",
            "2023-09-17\n",
            "2023-09-18\n",
            "2023-09-19\n",
            "2023-09-20\n",
            "2023-09-21\n",
            "2023-09-22\n",
            "2023-09-23\n",
            "2023-09-24\n",
            "2023-09-25\n"
          ]
        }
      ]
    },
    {
      "cell_type": "code",
      "source": [
        "\"\"\"\n",
        "3. Given a dictionary, convert it into corresponding dataframe and display it.\n",
        "\n",
        "\"\"\"\n",
        "import pandas as pd\n",
        "data = {\n",
        "    'Name': ['Alice', 'Bob', 'Charlie'],\n",
        "    'Age': [25, 30, 35],\n",
        "    'City': ['New York', 'Los Angeles', 'Chicago']\n",
        "}\n",
        "\n",
        "df = pd.DataFrame(data)\n",
        "print(df)\n",
        "\n",
        "\n"
      ],
      "metadata": {
        "id": "i0Xq0leGFGwS",
        "colab": {
          "base_uri": "https://localhost:8080/"
        },
        "outputId": "87dbf88e-ecb8-42a3-b8ea-3e5da298bb43"
      },
      "execution_count": null,
      "outputs": [
        {
          "output_type": "stream",
          "name": "stdout",
          "text": [
            "      Name  Age         City\n",
            "0    Alice   25     New York\n",
            "1      Bob   30  Los Angeles\n",
            "2  Charlie   35      Chicago\n"
          ]
        }
      ]
    },
    {
      "cell_type": "code",
      "source": [
        "\"\"\"\n",
        "4. Given a dataframe, select first 2 rows and output them.\n",
        "\n",
        "\"\"\"\n",
        "import pandas as pd\n",
        "\n",
        "\n",
        "data = {\n",
        "    'Name': ['Alice', 'Bob', 'Charlie'],\n",
        "    'Age': [25, 30, 35],\n",
        "    'City': ['New York', 'Los Angeles', 'Chicago']\n",
        "}\n",
        "\n",
        "df = pd.DataFrame(data)\n",
        "\n",
        "first_two_rows = df.iloc[:2]\n",
        "\n",
        "print(first_two_rows)\n"
      ],
      "metadata": {
        "colab": {
          "base_uri": "https://localhost:8080/"
        },
        "id": "eVka6OOkGTug",
        "outputId": "832b0265-4645-4e51-a45d-6e927cb222a8"
      },
      "execution_count": null,
      "outputs": [
        {
          "output_type": "stream",
          "name": "stdout",
          "text": [
            "    Name  Age         City\n",
            "0  Alice   25     New York\n",
            "1    Bob   30  Los Angeles\n"
          ]
        }
      ]
    },
    {
      "cell_type": "code",
      "source": [
        "import pandas as pd\n",
        "\n",
        "data = {\n",
        "    'Name': ['Alice', 'Bob', 'Charlie', 'David', 'Eve'],\n",
        "    'Occupation': ['Engineer', 'Doctor', 'Engineer', 'Doctor', 'Teacher'],\n",
        "    'Salary': [60000, 80000, 70000, 85000, 55000]\n",
        "}\n",
        "\n",
        "df = pd.DataFrame(data)\n",
        "\n",
        "average_salary_per_occupation = df.groupby('Occupation')['Salary'].mean().reset_index()\n",
        "\n",
        "print(average_salary_per_occupation)\n"
      ],
      "metadata": {
        "id": "QgWQhTCWG0O4",
        "colab": {
          "base_uri": "https://localhost:8080/"
        },
        "outputId": "5c4af717-c8e2-4aa7-8ab0-8c758ed0bf30"
      },
      "execution_count": null,
      "outputs": [
        {
          "output_type": "stream",
          "name": "stdout",
          "text": [
            "  Occupation   Salary\n",
            "0     Doctor  82500.0\n",
            "1   Engineer  65000.0\n",
            "2    Teacher  55000.0\n"
          ]
        }
      ]
    }
  ]
}